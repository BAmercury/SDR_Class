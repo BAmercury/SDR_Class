{
 "nbformat": 4,
 "nbformat_minor": 2,
 "metadata": {
  "language_info": {
   "name": "python",
   "codemirror_mode": {
    "name": "ipython",
    "version": 3
   },
   "version": "3.7.6-final"
  },
  "orig_nbformat": 2,
  "file_extension": ".py",
  "mimetype": "text/x-python",
  "name": "python",
  "npconvert_exporter": "python",
  "pygments_lexer": "ipython3",
  "version": 3,
  "kernelspec": {
   "name": "python37664bit2186937eea2848028e2da9bf2b670c38",
   "display_name": "Python 3.7.6 64-bit"
  }
 },
 "cells": [
  {
   "cell_type": "code",
   "execution_count": 51,
   "metadata": {},
   "outputs": [],
   "source": [
    "import scipy\n",
    "from numpy import sqrt\n",
    "import numpy as np\n",
    "from matplotlib import pyplot as plt\n"
   ]
  },
  {
   "cell_type": "code",
   "execution_count": 66,
   "metadata": {},
   "outputs": [],
   "source": [
    "# Import Data for the no BER samples\n",
    "TX_dat = scipy.fromfile(open(\"data/no_noise/TX_byte.bin\"), dtype=scipy.uint8)\n",
    "RX_dat = scipy.fromfile(open(\"data/no_noise/RX_byte.bin\"), dtype=scipy.uint8)"
   ]
  },
  {
   "cell_type": "code",
   "execution_count": 67,
   "metadata": {},
   "outputs": [
    {
     "name": "stdout",
     "output_type": "stream",
     "text": "7968\n7968\n"
    }
   ],
   "source": [
    "# Calculate Bit Error Rate\n",
    "# BER = N Err / N Bits\n",
    "RX_N = RX_dat.shape[0]\n",
    "TX_N = TX_dat[0:RX_N].shape[0]\n",
    "print(RX_N)\n",
    "print(TX_N)"
   ]
  },
  {
   "cell_type": "code",
   "execution_count": 68,
   "metadata": {},
   "outputs": [
    {
     "name": "stdout",
     "output_type": "stream",
     "text": "1.4333744991326707\n"
    }
   ],
   "source": [
    "error = np.linalg.norm(TX_dat[0:RX_N] - RX_dat)\n",
    "ber = error/TX_N\n",
    "print(ber)"
   ]
  },
  {
   "cell_type": "code",
   "execution_count": 69,
   "metadata": {},
   "outputs": [
    {
     "name": "stdout",
     "output_type": "stream",
     "text": "7968\n7968\n1.4340888317399072\n"
    }
   ],
   "source": [
    "# Import Data for the 0.5V Noise BER samples\n",
    "TX_dat = scipy.fromfile(open(\"data/0.5Vnoise/TX_byte.bin\"), dtype=scipy.uint8)\n",
    "RX_dat = scipy.fromfile(open(\"data/0.5Vnoise/RX_byte.bin\"), dtype=scipy.uint8)\n",
    "# Calculate Bit Error Rate\n",
    "# BER = N Err / N Bits\n",
    "RX_N = RX_dat.shape[0]\n",
    "TX_N = TX_dat[0:RX_N].shape[0]\n",
    "print(RX_N)\n",
    "print(TX_N)\n",
    "error = np.linalg.norm(TX_dat[0:RX_N] - RX_dat)\n",
    "ber = error/TX_N\n",
    "print(ber)"
   ]
  },
  {
   "cell_type": "code",
   "execution_count": 70,
   "metadata": {},
   "outputs": [
    {
     "name": "stdout",
     "output_type": "stream",
     "text": "20958\n(119184,)\n0.8530135568608053\n"
    }
   ],
   "source": [
    "# Import Data for the 0.5V Noise BER samples\n",
    "TX_dat = scipy.fromfile(open(\"data/norelay_jam20Khz/TX_byte.bin\"), dtype=scipy.uint8)\n",
    "RX_dat = scipy.fromfile(open(\"data/norelay_jam20Khz/RX_byte.bin\"), dtype=scipy.uint8)\n",
    "# Calculate Bit Error Rate\n",
    "# BER = N Err / N Bits\n",
    "RX_N = RX_dat.shape[0]\n",
    "TX_N = TX_dat[0:RX_N].shape[0]\n",
    "print(RX_N)\n",
    "print(TX_dat.shape)\n",
    "error = np.linalg.norm(TX_dat[0:RX_N] - RX_dat)\n",
    "ber = error/TX_N\n",
    "print(ber)\n",
    "\n",
    "# So we can see that our QPSK reciever is setup well to handle all of the stuff talked about in the tutorial. Can it handle jamming?"
   ]
  },
  {
   "cell_type": "code",
   "execution_count": 74,
   "metadata": {},
   "outputs": [
    {
     "name": "stdout",
     "output_type": "stream",
     "text": "1108896\n(1239712,)\n0.06457330577094561\n"
    }
   ],
   "source": [
    "# Import Data for the 0.5V Noise BER samples\n",
    "TX_dat = scipy.fromfile(open(\"data/norelay_jam50Khz/TX.bin\"), dtype=scipy.uint8)\n",
    "RX_dat = scipy.fromfile(open(\"data/norelay_jam50Khz/RX.bin\"), dtype=scipy.uint8)\n",
    "# Calculate Bit Error Rate\n",
    "# BER = N Err / N Bits\n",
    "RX_N = RX_dat.shape[0]\n",
    "TX_N = TX_dat[0:RX_N].shape[0]\n",
    "print(RX_N)\n",
    "print(TX_dat.shape)\n",
    "error = np.linalg.norm(TX_dat[0:RX_N] - RX_dat)\n",
    "ber = error/TX_N\n",
    "print(ber)\n",
    "\n",
    "# So we can see that our QPSK reciever is setup well to handle all of the stuff talked about in the tutorial. Can it handle jamming?"
   ]
  },
  {
   "cell_type": "code",
   "execution_count": null,
   "metadata": {},
   "outputs": [],
   "source": []
  }
 ]
}